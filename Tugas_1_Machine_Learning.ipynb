{
  "nbformat": 4,
  "nbformat_minor": 0,
  "metadata": {
    "colab": {
      "provenance": [],
      "authorship_tag": "ABX9TyPUG3yi2li2EtvzipK3JWOW",
      "include_colab_link": true
    },
    "kernelspec": {
      "name": "python3",
      "display_name": "Python 3"
    },
    "language_info": {
      "name": "python"
    }
  },
  "cells": [
    {
      "cell_type": "markdown",
      "metadata": {
        "id": "view-in-github",
        "colab_type": "text"
      },
      "source": [
        "<a href=\"https://colab.research.google.com/github/Irfann24/TugasMachineLearning/blob/main/Tugas_1_Machine_Learning.ipynb\" target=\"_parent\"><img src=\"https://colab.research.google.com/assets/colab-badge.svg\" alt=\"Open In Colab\"/></a>"
      ]
    },
    {
      "cell_type": "code",
      "execution_count": null,
      "metadata": {
        "id": "bu0RiQzW_8_c"
      },
      "outputs": [],
      "source": [
        "import pandas as pd\n",
        "dataset = \"\"\n",
        "data = pd.read_csv()\n",
        "data\n",
        "\n",
        "data.head()\n",
        "print(data.dtypes)\n",
        "datamiss = data.drop(data.columns[],axis=)\n",
        "datamiss\n",
        "\n",
        "datamiss.describe()\n",
        "\n",
        "data.loc[:,\"\":].corr()"
      ]
    }
  ]
}